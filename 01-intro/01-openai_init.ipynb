{
 "cells": [
  {
   "cell_type": "code",
   "execution_count": 3,
   "id": "4abd4fb4-01e4-48a8-9422-5dcdea94f934",
   "metadata": {},
   "outputs": [],
   "source": [
    "from openai import OpenAI"
   ]
  },
  {
   "cell_type": "code",
   "execution_count": 4,
   "id": "5def9fe7-9694-428b-a5e3-f157a4badfe1",
   "metadata": {},
   "outputs": [],
   "source": [
    "client = OpenAI()"
   ]
  },
  {
   "cell_type": "code",
   "execution_count": 6,
   "id": "089c676a-7df2-48d9-9082-7af753ba4767",
   "metadata": {},
   "outputs": [],
   "source": [
    "import os"
   ]
  },
  {
   "cell_type": "code",
   "execution_count": null,
   "id": "0bc51f20-ef6c-430e-8ae6-21be4f104881",
   "metadata": {},
   "outputs": [],
   "source": [
    "# os.environ"
   ]
  },
  {
   "cell_type": "code",
   "execution_count": 9,
   "id": "95d6adcf-2447-49d2-b418-0e61f7546330",
   "metadata": {},
   "outputs": [],
   "source": [
    "response = client.chat.completions.create(\n",
    "    model=\"gpt-4o\",\n",
    "    messages=[\n",
    "        {\n",
    "            \"role\": \"user\",\n",
    "            \"content\": \"who will win the men's european soccer championship 2024? What are the top 3 favourites?\",\n",
    "        }\n",
    "    ],\n",
    ")"
   ]
  },
  {
   "cell_type": "code",
   "execution_count": 12,
   "id": "5803cafa-3d78-4854-83fb-ce28d419cb46",
   "metadata": {},
   "outputs": [
    {
     "data": {
      "text/plain": [
       "\"I'm unable to provide real-time updates or predict future sports events, including the winner of the Men's European Soccer Championship 2024. However, as of the latest available information in 2023, typical favorites for major soccer tournaments often include historically strong teams such as France, Germany, Spain, and Italy. England and Belgium have also been considered strong contenders in recent years due to their impressive squads and performances in previous tournaments.\\n\\nFor the most accurate and updated information on favorites and odds, it would be best to check reliable sports news sources or betting sites as the tournament approaches.\""
      ]
     },
     "execution_count": 12,
     "metadata": {},
     "output_type": "execute_result"
    }
   ],
   "source": [
    "response.choices[0].message.content"
   ]
  }
 ],
 "metadata": {
  "kernelspec": {
   "display_name": "Python 3 (ipykernel)",
   "language": "python",
   "name": "python3"
  },
  "language_info": {
   "codemirror_mode": {
    "name": "ipython",
    "version": 3
   },
   "file_extension": ".py",
   "mimetype": "text/x-python",
   "name": "python",
   "nbconvert_exporter": "python",
   "pygments_lexer": "ipython3",
   "version": "3.10.13"
  }
 },
 "nbformat": 4,
 "nbformat_minor": 5
}
